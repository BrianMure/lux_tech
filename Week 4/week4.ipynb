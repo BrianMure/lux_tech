{
 "cells": [
  {
   "cell_type": "markdown",
   "id": "c9df5af8-0bdd-4dd5-bd3d-bcdc0d6c0910",
   "metadata": {},
   "source": [
    "### 1.0 Python Program To check palindrome"
   ]
  },
  {
   "cell_type": "code",
   "execution_count": 1,
   "id": "d91119e2-afba-4927-8991-c308ed0a986a",
   "metadata": {},
   "outputs": [
    {
     "name": "stdout",
     "output_type": "stream",
     "text": [
      "Yes\n"
     ]
    }
   ],
   "source": [
    "# function which return reverse of a string\n",
    "def isPalindrome(s):\n",
    "    return s == s[::-1]\n",
    "\n",
    "\n",
    "#check\n",
    "s = \"malayalam\"\n",
    "ans = isPalindrome(s)\n",
    "\n",
    "if ans:\n",
    "    print(\"Yes\")\n",
    "else:\n",
    "    print(\"No\")\n"
   ]
  },
  {
   "cell_type": "markdown",
   "id": "f9b70b9b-c39b-465a-a9c0-c86247ef9073",
   "metadata": {},
   "source": [
    "### 2.0 List comprehension"
   ]
  },
  {
   "cell_type": "markdown",
   "id": "5c3b6a2b-f50c-4e36-b78d-d3758c00efa8",
   "metadata": {},
   "source": [
    "- Python List comprehension provides a much more short syntax for creating a new list based on the values of an existing list.\n",
    "- Syntax:\n",
    "  newList = [ expression(element) for element in oldList if condition ] "
   ]
  },
  {
   "cell_type": "code",
   "execution_count": 2,
   "id": "b50de513-a791-4728-91c0-4c3e80f414c8",
   "metadata": {},
   "outputs": [
    {
     "name": "stdout",
     "output_type": "stream",
     "text": [
      "[1, 4, 9, 16, 25]\n"
     ]
    }
   ],
   "source": [
    "numbers = [1, 2, 3, 4, 5] \n",
    "squared = [x ** 2 for x in numbers] \n",
    "print(squared)\n"
   ]
  },
  {
   "cell_type": "code",
   "execution_count": 3,
   "id": "b4505012-2c28-41df-8413-fd5df84aa2a7",
   "metadata": {},
   "outputs": [
    {
     "name": "stdout",
     "output_type": "stream",
     "text": [
      "[1, 2, 3]\n"
     ]
    }
   ],
   "source": [
    "# Using list comprehension to iterate through loop \n",
    "List = [character for character in [1, 2, 3]] \n",
    "\n",
    "# Displaying list \n",
    "print(List)\n"
   ]
  },
  {
   "cell_type": "code",
   "execution_count": 4,
   "id": "6b69b5ca-89bd-4080-b3e5-bd93a8f1638b",
   "metadata": {},
   "outputs": [
    {
     "name": "stdout",
     "output_type": "stream",
     "text": [
      "[0, 2, 4, 6, 8, 10]\n"
     ]
    }
   ],
   "source": [
    "list = [i for i in range(11) if i % 2 == 0] \n",
    "print(list)\n"
   ]
  },
  {
   "cell_type": "markdown",
   "id": "05696d9d-a99d-4afb-bf7e-46bdf05854d9",
   "metadata": {},
   "source": [
    "### 3.0 Compound DataType"
   ]
  },
  {
   "cell_type": "markdown",
   "id": "f70a62b5-f52d-467b-a258-02bb4a2b5ab7",
   "metadata": {},
   "source": [
    "- A compound data type in Python is a type that can hold multiple values of different types.\n",
    "\n",
    "- Examples include: Lists, Dictionaries and Tuple\n",
    "  "
   ]
  },
  {
   "cell_type": "markdown",
   "id": "9f53a069-7817-4e5d-a873-203763edb657",
   "metadata": {},
   "source": [
    "### List"
   ]
  },
  {
   "cell_type": "code",
   "execution_count": 5,
   "id": "d3ff9047-0004-40fc-a791-aae00dd4d662",
   "metadata": {},
   "outputs": [
    {
     "data": {
      "text/plain": [
       "[1, 'hello', 3.14]"
      ]
     },
     "execution_count": 5,
     "metadata": {},
     "output_type": "execute_result"
    }
   ],
   "source": [
    "list_one = [1, \"hello\", 3.14]\n",
    "list_one"
   ]
  },
  {
   "cell_type": "markdown",
   "id": "b1de8862-475a-4add-982f-e501ca4abf78",
   "metadata": {},
   "source": [
    "### Dictionary"
   ]
  },
  {
   "cell_type": "code",
   "execution_count": 6,
   "id": "62b8fde1-f311-4ebb-beb4-a81ba81aa3b9",
   "metadata": {},
   "outputs": [
    {
     "data": {
      "text/plain": [
       "{'name': 'Alice', 'age': 25, 'town': 'Nairobi'}"
      ]
     },
     "execution_count": 6,
     "metadata": {},
     "output_type": "execute_result"
    }
   ],
   "source": [
    "new_dict = {\"name\": \"Alice\", \"age\": 25, \"town\": \"Nairobi\"}\n",
    "new_dict"
   ]
  },
  {
   "cell_type": "markdown",
   "id": "69bff73b-fc6a-408a-b9f0-ce925852c954",
   "metadata": {},
   "source": [
    "### Tuple"
   ]
  },
  {
   "cell_type": "code",
   "execution_count": 7,
   "id": "d6f5d2a6-8848-4725-96b4-dc6f751d4fac",
   "metadata": {},
   "outputs": [
    {
     "data": {
      "text/plain": [
       "(10, 'world', [1, 2, 3])"
      ]
     },
     "execution_count": 7,
     "metadata": {},
     "output_type": "execute_result"
    }
   ],
   "source": [
    "new_tuple = (10, \"world\", [1, 2, 3])\n",
    "new_tuple"
   ]
  },
  {
   "cell_type": "markdown",
   "id": "122584dd-f733-4f7b-b0da-4392a82e4e08",
   "metadata": {},
   "source": [
    "### 4.0 Function that takes a string and returns bigrams"
   ]
  },
  {
   "cell_type": "code",
   "execution_count": 9,
   "id": "cb7cb6de-cbca-4ed5-a889-d7cb1a53e547",
   "metadata": {},
   "outputs": [
    {
     "data": {
      "text/plain": [
       "['he', 'el', 'll', 'lo']"
      ]
     },
     "execution_count": 9,
     "metadata": {},
     "output_type": "execute_result"
    }
   ],
   "source": [
    "def get_bigram(s):\n",
    "    return [s[i:i+2] for i in range(len(s) - 1)]\n",
    "\n",
    "s = \"hello\"\n",
    "get_bigram(s)\n"
   ]
  },
  {
   "cell_type": "markdown",
   "id": "52ae9d7e-e18a-4e66-90d1-2f60e629899e",
   "metadata": {},
   "source": [
    "### 5.0 Function To Closest Key Input"
   ]
  },
  {
   "cell_type": "code",
   "execution_count": 15,
   "id": "7a8fb468-cc03-47bc-837d-27e9f27e7ed6",
   "metadata": {},
   "outputs": [
    {
     "data": {
      "text/plain": [
       "'b'"
      ]
     },
     "execution_count": 15,
     "metadata": {},
     "output_type": "execute_result"
    }
   ],
   "source": [
    "def closest_key(i, value):\n",
    "    closest_key = None\n",
    "    min_distance = float('inf')\n",
    "    \n",
    "    for k, v_list in i.items():\n",
    "        if value in v_list:\n",
    "            distance = v_list.index(value)\n",
    "            if distance < min_distance:\n",
    "                min_distance = distance\n",
    "                closest_key = k\n",
    "    \n",
    "    return closest_key\n",
    "\n",
    "d = {\n",
    "    'a': ['a', 'b', 'c'],\n",
    "    'b': ['m', 'n', 'x'],\n",
    "    'c': ['y', 'z', 'x']\n",
    "}\n",
    "\n",
    "value = 'n'\n",
    "closest_key(d, value)"
   ]
  },
  {
   "cell_type": "code",
   "execution_count": null,
   "id": "6c0f1e9e-6080-4cb6-845b-3008ee1fa6f4",
   "metadata": {},
   "outputs": [],
   "source": []
  }
 ],
 "metadata": {
  "kernelspec": {
   "display_name": "gomycode_env",
   "language": "python",
   "name": "gomycode_env"
  },
  "language_info": {
   "codemirror_mode": {
    "name": "ipython",
    "version": 3
   },
   "file_extension": ".py",
   "mimetype": "text/x-python",
   "name": "python",
   "nbconvert_exporter": "python",
   "pygments_lexer": "ipython3",
   "version": "3.11.7"
  }
 },
 "nbformat": 4,
 "nbformat_minor": 5
}
